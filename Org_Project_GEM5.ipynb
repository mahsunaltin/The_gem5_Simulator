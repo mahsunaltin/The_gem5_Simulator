{
  "nbformat": 4,
  "nbformat_minor": 0,
  "metadata": {
    "colab": {
      "name": "Org_Project_GEM5.ipynb",
      "provenance": [],
      "collapsed_sections": []
    },
    "kernelspec": {
      "name": "python3",
      "display_name": "Python 3"
    }
  },
  "cells": [
    {
      "cell_type": "code",
      "metadata": {
        "id": "GEJ-RqxZsjTf",
        "colab_type": "code",
        "colab": {}
      },
      "source": [
        "!sudo apt install build-essential git m4 scons zlib1g zlib1g-dev libprotobuf-dev protobuf-compiler libprotoc-dev libgoogle-perftools-dev python-dev python"
      ],
      "execution_count": 0,
      "outputs": []
    },
    {
      "cell_type": "code",
      "metadata": {
        "id": "QlEQ6ROlstJf",
        "colab_type": "code",
        "colab": {}
      },
      "source": [
        "!git clone https://gem5.googlesource.com/public/gem5"
      ],
      "execution_count": 0,
      "outputs": []
    },
    {
      "cell_type": "code",
      "metadata": {
        "id": "m8O1hXQYs963",
        "colab_type": "code",
        "colab": {}
      },
      "source": [
        "%cd gem5\n",
        "!scons build/X86/gem5.opt -j9"
      ],
      "execution_count": 0,
      "outputs": []
    },
    {
      "cell_type": "code",
      "metadata": {
        "id": "7-9uCvFoXEGs",
        "colab_type": "code",
        "colab": {}
      },
      "source": [
        "!gcc -static  -o matmul.x86 matmul.c "
      ],
      "execution_count": 0,
      "outputs": []
    },
    {
      "cell_type": "code",
      "metadata": {
        "id": "n8ZLZt3NGBVa",
        "colab_type": "code",
        "outputId": "b2ac2aca-e000-4d17-d258-5fcb4c7e07ef",
        "colab": {
          "base_uri": "https://localhost:8080/",
          "height": 887
        }
      },
      "source": [
        "!build/X86/gem5.opt configs/example/se.py --cmd=tests/test-progs/hello/bin/x86/linux/matmul.x86 --caches --l1d_size=64kB --l1i_size=64kB --cacheline_size=4"
      ],
      "execution_count": 0,
      "outputs": [
        {
          "output_type": "stream",
          "text": [
            "gem5 Simulator System.  http://gem5.org\n",
            "gem5 is copyrighted software; use the --copyright option for details.\n",
            "\n",
            "gem5 compiled Dec 22 2019 19:16:46\n",
            "gem5 started Dec 22 2019 20:27:02\n",
            "gem5 executing on d8c659455d5b, pid 7345\n",
            "command line: build/X86/gem5.opt configs/example/se.py --cmd=tests/test-progs/hello/bin/x86/linux/matmul.x86 --caches --l1d_size=64kB --l1i_size=64kB --cacheline_size=4\n",
            "\n",
            "Global frequency set at 1000000000000 ticks per second\n",
            "warn: DRAM device capacity (8192 Mbytes) does not match the address range assigned (512 Mbytes)\n",
            "warn: Cache line size is neither 16, 32, 64 nor 128 bytes.\n",
            "0: system.remote_gdb: listening for remote gdb on port 7000\n",
            "**** REAL SIMULATION ****\n",
            "info: Entering event queue @ 0.  Starting simulation...\n",
            "gem5.opt: build/X86/mem/cache/base.cc:906: virtual void BaseCache::satisfyRequest(PacketPtr, CacheBlk*, bool, bool): Assertion `pkt->getOffset(blkSize) + pkt->getSize() <= blkSize' failed.\n",
            "Program aborted at tick 0\n",
            "--- BEGIN LIBC BACKTRACE ---\n",
            "build/X86/gem5.opt(_Z15print_backtracev+0x2c)[0x5561dea1856c]\n",
            "build/X86/gem5.opt(_Z12abortHandleri+0x4a)[0x5561dea2a8ea]\n",
            "/lib/x86_64-linux-gnu/libpthread.so.0(+0x12890)[0x7fbc5ab79890]\n",
            "/lib/x86_64-linux-gnu/libc.so.6(gsignal+0xc7)[0x7fbc58c08e97]\n",
            "/lib/x86_64-linux-gnu/libc.so.6(abort+0x141)[0x7fbc58c0a801]\n",
            "/lib/x86_64-linux-gnu/libc.so.6(+0x3039a)[0x7fbc58bfa39a]\n",
            "/lib/x86_64-linux-gnu/libc.so.6(+0x30412)[0x7fbc58bfa412]\n",
            "build/X86/gem5.opt(_ZN9BaseCache14satisfyRequestEP6PacketP8CacheBlkbb+0x6c3)[0x5561de050ca3]\n",
            "build/X86/gem5.opt(_ZN5Cache14satisfyRequestEP6PacketP8CacheBlkbb+0x27)[0x5561de05dd87]\n",
            "build/X86/gem5.opt(_ZN5Cache19handleAtomicReqMissEP6PacketRP8CacheBlkRNSt7__cxx114listIS1_SaIS1_EEE+0x2ec)[0x5561de058fec]\n",
            "build/X86/gem5.opt(_ZN9BaseCache10recvAtomicEP6Packet+0x3c3)[0x5561de055ec3]\n",
            "build/X86/gem5.opt(_ZN5Cache10recvAtomicEP6Packet+0x173)[0x5561de05eb33]\n",
            "build/X86/gem5.opt(_ZN15AtomicSimpleCPU4tickEv+0x6b9)[0x5561dec4c879]\n",
            "build/X86/gem5.opt(_ZN10EventQueue10serviceOneEv+0xd9)[0x5561dea209d9]\n",
            "build/X86/gem5.opt(_Z9doSimLoopP10EventQueue+0x164)[0x5561dea421f4]\n",
            "build/X86/gem5.opt(_Z8simulatem+0xcba)[0x5561dea4316a]\n",
            "build/X86/gem5.opt(+0x143a9fe)[0x5561ded659fe]\n",
            "build/X86/gem5.opt(+0x6d2e14)[0x5561ddffde14]\n",
            "/usr/lib/x86_64-linux-gnu/libpython2.7.so.1.0(PyEval_EvalFrameEx+0x64d7)[0x7fbc5ae26c37]\n",
            "/usr/lib/x86_64-linux-gnu/libpython2.7.so.1.0(PyEval_EvalCodeEx+0x7d8)[0x7fbc5af65908]\n",
            "/usr/lib/x86_64-linux-gnu/libpython2.7.so.1.0(PyEval_EvalFrameEx+0x5bf6)[0x7fbc5ae26356]\n",
            "/usr/lib/x86_64-linux-gnu/libpython2.7.so.1.0(PyEval_EvalCodeEx+0x7d8)[0x7fbc5af65908]\n",
            "/usr/lib/x86_64-linux-gnu/libpython2.7.so.1.0(PyEval_EvalFrameEx+0x5bf6)[0x7fbc5ae26356]\n",
            "/usr/lib/x86_64-linux-gnu/libpython2.7.so.1.0(PyEval_EvalCodeEx+0x7d8)[0x7fbc5af65908]\n",
            "/usr/lib/x86_64-linux-gnu/libpython2.7.so.1.0(PyEval_EvalFrameEx+0x5bf6)[0x7fbc5ae26356]\n",
            "/usr/lib/x86_64-linux-gnu/libpython2.7.so.1.0(PyEval_EvalCodeEx+0x7d8)[0x7fbc5af65908]\n",
            "/usr/lib/x86_64-linux-gnu/libpython2.7.so.1.0(PyEval_EvalCode+0x19)[0x7fbc5ae205c9]\n",
            "/usr/lib/x86_64-linux-gnu/libpython2.7.so.1.0(PyEval_EvalFrameEx+0x6ac0)[0x7fbc5ae27220]\n",
            "/usr/lib/x86_64-linux-gnu/libpython2.7.so.1.0(PyEval_EvalCodeEx+0x7d8)[0x7fbc5af65908]\n",
            "/usr/lib/x86_64-linux-gnu/libpython2.7.so.1.0(PyEval_EvalFrameEx+0x5bf6)[0x7fbc5ae26356]\n",
            "/usr/lib/x86_64-linux-gnu/libpython2.7.so.1.0(PyEval_EvalCodeEx+0x7d8)[0x7fbc5af65908]\n",
            "/usr/lib/x86_64-linux-gnu/libpython2.7.so.1.0(PyEval_EvalCode+0x19)[0x7fbc5ae205c9]\n",
            "--- END LIBC BACKTRACE ---\n"
          ],
          "name": "stdout"
        }
      ]
    }
  ]
}